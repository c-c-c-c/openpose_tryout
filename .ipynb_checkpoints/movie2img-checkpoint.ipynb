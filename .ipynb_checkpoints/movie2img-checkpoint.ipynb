{
 "cells": [
  {
   "cell_type": "code",
   "execution_count": 3,
   "metadata": {},
   "outputs": [],
   "source": [
    "# 標準使用ライブラリー\n",
    "import numpy as np # linear algebra\n",
    "import pandas as pd # data processing, CSV file I/O (e.g. pd.read_csv)\n",
    "# Suppress warnings \n",
    "import warnings\n",
    "warnings.filterwarnings('ignore')\n",
    "import gc\n",
    "import os\n",
    "import shutil\n",
    "\n",
    "# matplotlib and seaborn for plotting\n",
    "import matplotlib.pyplot as plt\n",
    "%matplotlib inline\n",
    "import seaborn as sns\n",
    "\n",
    "import json\n",
    "import datetime\n",
    "import math\n",
    "plt.style.use('dark_background')\n",
    "\n",
    "# debug\n",
    "#%pdb on\n",
    "\n",
    "import pixiedust #%pixie_debugger"
   ]
  },
  {
   "cell_type": "code",
   "execution_count": 5,
   "metadata": {},
   "outputs": [
    {
     "name": "stdout",
     "output_type": "stream",
     "text": [
      "/home/input/openpose_tryout\r\n"
     ]
    }
   ],
   "source": [
    "!pwd"
   ]
  },
  {
   "cell_type": "code",
   "execution_count": 6,
   "metadata": {},
   "outputs": [],
   "source": [
    "MOVIE_DIR = \"/home/input/openpose_tryout/movies/\""
   ]
  },
  {
   "cell_type": "code",
   "execution_count": null,
   "metadata": {},
   "outputs": [],
   "source": [
    "def prior_convert(file):\n",
    "    '''mov, mp4 を jpg, mp3に分離する'''\n",
    "    mp4_output_path = file.parent / \"{}.mp4\".format(file.stem)\n",
    "    mp3_output_path = file.parent / \"{}.mp3\".format(file.stem)\n",
    "    jpg_output_path = SDANCE_CACHE_INPUT_IMAGE_DIR / \"%06d.jpg\"\n",
    "    SDANCE_CACHE_INPUT_IMAGE_DIR\n",
    "    # mp4が存在しなければmovをmp4に変換する\n",
    "    if not mp4_output_path.is_file():\n",
    "        ffmpeg.input(str(file)) \\\n",
    "        .output(filename=str(mp4_output_path), pix_fmt='yuv420p') \\\n",
    "        .run()\n",
    "    # mp4から音声mp3を抽出する\n",
    "    if mp3_output_path.is_file():\n",
    "        mp3_output_path.unlink()\n",
    "    ffmpeg.input(str(mp4_output_path)) \\\n",
    "    .output(filename=str(mp3_output_path), map='0:1') \\\n",
    "    .run()\n",
    "    # mp4から画像jpgを抽出する\n",
    "    for f in SDANCE_CACHE_INPUT_IMAGE_DIR.glob(\"*.jpg\"):\n",
    "        f.unlink()\n",
    "    ffmpeg.input(str(mp4_output_path)) \\\n",
    "    .output(filename=str(jpg_output_path), ss=0, r=30000/1001, start_number=000000) \\\n",
    "    .run()"
   ]
  }
 ],
 "metadata": {
  "kernelspec": {
   "display_name": "Python 3",
   "language": "python",
   "name": "python3"
  },
  "language_info": {
   "codemirror_mode": {
    "name": "ipython",
    "version": 3
   },
   "file_extension": ".py",
   "mimetype": "text/x-python",
   "name": "python",
   "nbconvert_exporter": "python",
   "pygments_lexer": "ipython3",
   "version": "3.7.6"
  },
  "varInspector": {
   "cols": {
    "lenName": 16,
    "lenType": 16,
    "lenVar": 40
   },
   "kernels_config": {
    "python": {
     "delete_cmd_postfix": "",
     "delete_cmd_prefix": "del ",
     "library": "var_list.py",
     "varRefreshCmd": "print(var_dic_list())"
    },
    "r": {
     "delete_cmd_postfix": ") ",
     "delete_cmd_prefix": "rm(",
     "library": "var_list.r",
     "varRefreshCmd": "cat(var_dic_list()) "
    }
   },
   "types_to_exclude": [
    "module",
    "function",
    "builtin_function_or_method",
    "instance",
    "_Feature"
   ],
   "window_display": false
  }
 },
 "nbformat": 4,
 "nbformat_minor": 4
}
