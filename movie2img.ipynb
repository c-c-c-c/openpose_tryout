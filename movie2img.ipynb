{
 "cells": [
  {
   "cell_type": "code",
   "execution_count": 1,
   "metadata": {},
   "outputs": [
    {
     "name": "stdout",
     "output_type": "stream",
     "text": [
      "Pixiedust database opened successfully\n"
     ]
    },
    {
     "data": {
      "text/html": [
       "\n",
       "        <div style=\"margin:10px\">\n",
       "            <a href=\"https://github.com/ibm-watson-data-lab/pixiedust\" target=\"_new\">\n",
       "                <img src=\"https://github.com/ibm-watson-data-lab/pixiedust/raw/master/docs/_static/pd_icon32.png\" style=\"float:left;margin-right:10px\"/>\n",
       "            </a>\n",
       "            <span>Pixiedust version 1.1.18</span>\n",
       "        </div>\n",
       "        "
      ],
      "text/plain": [
       "<IPython.core.display.HTML object>"
      ]
     },
     "metadata": {},
     "output_type": "display_data"
    }
   ],
   "source": [
    "# 標準使用ライブラリー\n",
    "import numpy as np # linear algebra\n",
    "import pandas as pd # data processing, CSV file I/O (e.g. pd.read_csv)\n",
    "# Suppress warnings \n",
    "import warnings\n",
    "warnings.filterwarnings('ignore')\n",
    "import gc\n",
    "import os\n",
    "import shutil\n",
    "\n",
    "# matplotlib and seaborn for plotting\n",
    "import matplotlib.pyplot as plt\n",
    "%matplotlib inline\n",
    "import seaborn as sns\n",
    "\n",
    "import json\n",
    "import datetime\n",
    "import math\n",
    "plt.style.use('dark_background')\n",
    "\n",
    "# debug\n",
    "#%pdb on\n",
    "\n",
    "import pixiedust #%pixie_debugger"
   ]
  },
  {
   "cell_type": "code",
   "execution_count": 2,
   "metadata": {},
   "outputs": [],
   "source": [
    "from pathlib import Path\n",
    "import ffmpeg"
   ]
  },
  {
   "cell_type": "code",
   "execution_count": 3,
   "metadata": {},
   "outputs": [],
   "source": [
    "MOVIE_DIR = Path(\"/home/input/openpose_tryout/movies/\")\n",
    "MOVIE2IMG_DIR = Path( \"/home/input/openpose_tryout/movies_output/\")\n"
   ]
  },
  {
   "cell_type": "code",
   "execution_count": 4,
   "metadata": {},
   "outputs": [],
   "source": [
    "##################################\n",
    "#  独自ライブラリー： mshow\n",
    "# (複数に対応したノートブック上画像表示)\n",
    "##################################\n",
    "import cv2;import numpy as np;import matplotlib as mpl;import matplotlib.pyplot as plt\n",
    "%matplotlib inline\n",
    "def mshow(img1=None, img2=None, img3=None, img4=None, img5=None, *, img_list = []):\n",
    "\n",
    "    imgs = list(filter( lambda x: x is not None, [img1, img2, img3, img4, img5])) \n",
    "    imgs.extend(img_list)\n",
    "    \n",
    "    if len(imgs) == 1:\n",
    "        # 一枚のとき\n",
    "        imgs[0] = imgs[0].astype(np.uint8)\n",
    "        im4p = cv2.cvtColor(imgs[0], cv2.COLOR_BGR2RGB)\n",
    "        plt.imshow(im4p)\n",
    "\n",
    "    elif len(imgs) < 10:\n",
    "        # 複数枚のとき。横に並べていく\n",
    "        plt.figure(figsize=(len(imgs)*4, len(imgs)*4))\n",
    "        fig_exh_base = 100+len(imgs)*10\n",
    "        for idx, tmp_img in enumerate(imgs):\n",
    "            tmp_img = tmp_img.astype(np.uint8)\n",
    "            tmp_im4p = cv2.cvtColor(tmp_img, cv2.COLOR_BGR2RGB)\n",
    "            \n",
    "            plt.subplot(fig_exh_base+idx+1)\n",
    "            plt.imshow(tmp_im4p)\n",
    "        \n",
    "    else :\n",
    "        plt.figure(figsize=(4*4, 4*4))\n",
    "        for i in range(5):\n",
    "            for j in range(5):\n",
    "                \n",
    "                if len(imgs) < 5*i+j+1:\n",
    "                    break\n",
    "                tmp_img = imgs[5*i+j].astype(np.uint8)\n",
    "                tmp_im4p = cv2.cvtColor(tmp_img, cv2.COLOR_BGR2RGB)\n",
    "                \n",
    "                \n",
    "                plt.subplot2grid((5,5), (i,j))\n",
    "                plt.imshow(imgs[tmp_im4p])\n",
    "        \n",
    "        \n",
    "        "
   ]
  },
  {
   "cell_type": "code",
   "execution_count": 5,
   "metadata": {},
   "outputs": [],
   "source": [
    "# def prior_convert(file):\n",
    "#     '''mov, mp4 を jpg, mp3に分離する'''\n",
    "#     mp4_output_path = file.parent / \"{}.mp4\".format(file.stem)\n",
    "#     mp3_output_path = file.parent / \"{}.mp3\".format(file.stem)\n",
    "#     jpg_output_path = SDANCE_CACHE_INPUT_IMAGE_DIR / \"%06d.jpg\"\n",
    "#     SDANCE_CACHE_INPUT_IMAGE_DIR\n",
    "#     # mp4が存在しなければmovをmp4に変換する\n",
    "#     if not mp4_output_path.is_file():\n",
    "#         ffmpeg.input(str(file)) \\\n",
    "#         .output(filename=str(mp4_output_path), pix_fmt='yuv420p') \\\n",
    "#         .run()\n",
    "#     # mp4から音声mp3を抽出する\n",
    "#     if mp3_output_path.is_file():\n",
    "#         mp3_output_path.unlink()\n",
    "#     ffmpeg.input(str(mp4_output_path)) \\\n",
    "#     .output(filename=str(mp3_output_path), map='0:1') \\\n",
    "#     .run()\n",
    "#     # mp4から画像jpgを抽出する\n",
    "#     for f in SDANCE_CACHE_INPUT_IMAGE_DIR.glob(\"*.jpg\"):\n",
    "#         f.unlink()\n",
    "#     ffmpeg.input(str(mp4_output_path)) \\\n",
    "#     .output(filename=str(jpg_output_path), ss=0, r=30000/1001, start_number=000000) \\\n",
    "#     .run()"
   ]
  },
  {
   "cell_type": "code",
   "execution_count": null,
   "metadata": {},
   "outputs": [],
   "source": []
  },
  {
   "cell_type": "code",
   "execution_count": 6,
   "metadata": {},
   "outputs": [],
   "source": [
    "stream = ffmpeg.input(str(MOVIE_DIR) + \"/moriwaki_360.mp4\")"
   ]
  },
  {
   "cell_type": "code",
   "execution_count": null,
   "metadata": {},
   "outputs": [],
   "source": []
  },
  {
   "cell_type": "code",
   "execution_count": 7,
   "metadata": {},
   "outputs": [
    {
     "data": {
      "text/plain": [
       "True"
      ]
     },
     "execution_count": 7,
     "metadata": {},
     "output_type": "execute_result"
    }
   ],
   "source": [
    "tmp_dir =  \"./tmp_img\"\n",
    "os.path.exists(tmp_dir)"
   ]
  },
  {
   "cell_type": "code",
   "execution_count": null,
   "metadata": {},
   "outputs": [],
   "source": []
  },
  {
   "cell_type": "code",
   "execution_count": null,
   "metadata": {},
   "outputs": [],
   "source": []
  },
  {
   "cell_type": "code",
   "execution_count": 8,
   "metadata": {},
   "outputs": [],
   "source": [
    "###########################\n",
    "# 動画読み込みチェック\n",
    "###########################\n",
    "import cv2;\n",
    "def checkMoviePerSec ( stream , movie_duration) : \n",
    "    tmp_dir =  Path(\"./tmp_img\") # 画像を仮保存する\n",
    "\n",
    "    # 存在チェック、中の画像を一度空に\n",
    "    if not os.path.exists(str(tmp_dir)):\n",
    "        os.mkdir(str(tmp_dir))\n",
    "    for f in tmp_dir.glob(\"*.jpg\"):\n",
    "        f.unlink()\n",
    "\n",
    "    # 動画の尺。25秒以上のものは、25秒まで。 \n",
    "    check_duration = movie_duration if movie_duration < 25 else 25\n",
    "    \n",
    "    # 1秒ずつ、そのタイミングの画像を保存\n",
    "    for sec in range(1, check_duration):\n",
    "        ffmpeg.output(stream, str(tmp_dir)+\"/\" + str(sec)  +\".jpg\", ss=sec, vframes=1, f='image2').run()\n",
    "\n",
    "    imgs = [] #画像をいれるリスト\n",
    "    for idx in range(1, check_duration):\n",
    "        tmp_img = cv2.imread(str(tmp_dir) + \"/\" +str(idx)+\".jpg\" )\n",
    "        imgs.append( tmp_img   )\n",
    "    \n",
    "    # open cvで読み込んだ画像を並べて表示\n",
    "    mshow(img_list = imgs)\n",
    "    return imgs\n"
   ]
  },
  {
   "cell_type": "code",
   "execution_count": 9,
   "metadata": {},
   "outputs": [],
   "source": [
    "probe = ffmpeg.probe(str(MOVIE_DIR) + \"/moriwaki_360.mp4\")\n",
    "\n",
    "movie_duration = math.floor(float(probe['streams'][0][\"duration\"]))"
   ]
  },
  {
   "cell_type": "code",
   "execution_count": null,
   "metadata": {},
   "outputs": [],
   "source": [
    "imgs =checkMoviePerSec(stream, movie_duration)"
   ]
  },
  {
   "cell_type": "code",
   "execution_count": null,
   "metadata": {},
   "outputs": [],
   "source": [
    "# 画像を空にする\n",
    "for f in MOVIE2IMG_DIR.glob(\"*.jpg\"):\n",
    "    f.unlink()"
   ]
  },
  {
   "cell_type": "code",
   "execution_count": null,
   "metadata": {},
   "outputs": [],
   "source": [
    "stream.output(\n",
    "    filename=str(MOVIE2IMG_DIR / \"%06d.jpg\"), ss=0, r=30000/1001, start_number=000000)\\\n",
    "    .run()\n",
    "#     filename= str(\"/home/input/openpose_tryout/movies_output/\")+\"%06d.jpg\", ss=0, r=30000/1001, start_number=000000)\\\n",
    "#     filename= \"/home/input/openpose_tryout/movies/\"+\"%06d.jpg\", ss=0, r=30000/1001, start_number=000000)\\\n",
    "#     filename= \"/home/input/openpose_tryout/movies/1.jpg\", ss=0, r=30000/1001) \\\n"
   ]
  },
  {
   "cell_type": "code",
   "execution_count": null,
   "metadata": {},
   "outputs": [],
   "source": []
  },
  {
   "cell_type": "code",
   "execution_count": null,
   "metadata": {},
   "outputs": [],
   "source": []
  }
 ],
 "metadata": {
  "kernelspec": {
   "display_name": "Python 3",
   "language": "python",
   "name": "python3"
  },
  "language_info": {
   "codemirror_mode": {
    "name": "ipython",
    "version": 3
   },
   "file_extension": ".py",
   "mimetype": "text/x-python",
   "name": "python",
   "nbconvert_exporter": "python",
   "pygments_lexer": "ipython3",
   "version": "3.7.6"
  },
  "varInspector": {
   "cols": {
    "lenName": 16,
    "lenType": 16,
    "lenVar": 40
   },
   "kernels_config": {
    "python": {
     "delete_cmd_postfix": "",
     "delete_cmd_prefix": "del ",
     "library": "var_list.py",
     "varRefreshCmd": "print(var_dic_list())"
    },
    "r": {
     "delete_cmd_postfix": ") ",
     "delete_cmd_prefix": "rm(",
     "library": "var_list.r",
     "varRefreshCmd": "cat(var_dic_list()) "
    }
   },
   "types_to_exclude": [
    "module",
    "function",
    "builtin_function_or_method",
    "instance",
    "_Feature"
   ],
   "window_display": false
  }
 },
 "nbformat": 4,
 "nbformat_minor": 4
}
